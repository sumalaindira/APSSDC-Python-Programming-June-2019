{
 "cells": [
  {
   "cell_type": "code",
   "execution_count": 1,
   "metadata": {},
   "outputs": [
    {
     "name": "stdout",
     "output_type": "stream",
     "text": [
      "Alabama\n",
      "Arizona\n",
      "Arkansas\n"
     ]
    }
   ],
   "source": [
    "# Print the list of all states in the same line with average income less than California\n",
    "\n",
    "filepath = 'DataFiles/Income.csv'\n",
    "import pandas as pd\n",
    "def readCSVdata(filepath):\n",
    "    incomedf=pd.read_csv(filepath)\n",
    "    df = pd.DataFrame(incomedf)\n",
    "    li={}\n",
    "    for row in df.values:\n",
    "        #print(row[1],end=' ')\n",
    "        sum=0 \n",
    "        c=0\n",
    "        for i in range(2,len(row)):\n",
    "            sum += int(row[i])\n",
    "            c += 1\n",
    "        li[row[1]]= sum//c\n",
    "    #print(li)\n",
    "    st = [v[1] for v in li.items() if v[0] == 'California']  \n",
    "    states = [j[0] for j in li.items() if j[1] < st[0]] \n",
    "    for z in states:\n",
    "        print(z)\n",
    "        \n",
    "\n",
    "readCSVdata(filepath)"
   ]
  },
  {
   "cell_type": "code",
   "execution_count": 2,
   "metadata": {},
   "outputs": [
    {
     "data": {
      "text/html": [
       "<div>\n",
       "<style scoped>\n",
       "    .dataframe tbody tr th:only-of-type {\n",
       "        vertical-align: middle;\n",
       "    }\n",
       "\n",
       "    .dataframe tbody tr th {\n",
       "        vertical-align: top;\n",
       "    }\n",
       "\n",
       "    .dataframe thead th {\n",
       "        text-align: right;\n",
       "    }\n",
       "</style>\n",
       "<table border=\"1\" class=\"dataframe\">\n",
       "  <thead>\n",
       "    <tr style=\"text-align: right;\">\n",
       "      <th></th>\n",
       "      <th>State</th>\n",
       "    </tr>\n",
       "  </thead>\n",
       "  <tbody>\n",
       "    <tr>\n",
       "      <th>1</th>\n",
       "      <td>Alaska</td>\n",
       "    </tr>\n",
       "    <tr>\n",
       "      <th>4</th>\n",
       "      <td>California</td>\n",
       "    </tr>\n",
       "    <tr>\n",
       "      <th>2</th>\n",
       "      <td>Arizona</td>\n",
       "    </tr>\n",
       "    <tr>\n",
       "      <th>0</th>\n",
       "      <td>Alabama</td>\n",
       "    </tr>\n",
       "    <tr>\n",
       "      <th>3</th>\n",
       "      <td>Arkansas</td>\n",
       "    </tr>\n",
       "  </tbody>\n",
       "</table>\n",
       "</div>"
      ],
      "text/plain": [
       "        State\n",
       "1      Alaska\n",
       "4  California\n",
       "2     Arizona\n",
       "0     Alabama\n",
       "3    Arkansas"
      ]
     },
     "execution_count": 2,
     "metadata": {},
     "output_type": "execute_result"
    }
   ],
   "source": [
    "# Print the names of states based on descending order of income in the year 2009\n",
    "\n",
    "import pandas as pd\n",
    "\n",
    "filepath = 'DataFiles/Income.csv'\n",
    "incomedf=pd.read_csv(filepath)\n",
    "#incomedf\n",
    "df = pd.DataFrame(incomedf)\n",
    "df.sort_values(\"2009\", axis = 0, ascending = False, \n",
    "                 inplace = True, na_position ='last') \n",
    "\n",
    "result=df.loc[:,[\"State\"]] \n",
    "result "
   ]
  },
  {
   "cell_type": "code",
   "execution_count": 4,
   "metadata": {},
   "outputs": [
    {
     "name": "stdout",
     "output_type": "stream",
     "text": [
      "Arkansas 36538\n"
     ]
    }
   ],
   "source": [
    "#State with the lowest recorded income from 2005 to 2013\n",
    "import pandas as pd\n",
    "def lowestRecord(df):\n",
    "    inc = 0\n",
    "    state = ''\n",
    "    for item in df.values:        \n",
    "        li=[]\n",
    "        for i in range(2,len(item)):            \n",
    "            li.append(item[i]) \n",
    "        if inc == 0:\n",
    "            inc = min(li)\n",
    "            state = item[1]\n",
    "        elif inc > min(li) and inc != 0:            \n",
    "            inc = min(li)\n",
    "            state = item[1]\n",
    "       \n",
    "           \n",
    "           \n",
    "    print(state,inc)\n",
    "lowestRecord(incomedf)"
   ]
  },
  {
   "cell_type": "code",
   "execution_count": null,
   "metadata": {},
   "outputs": [],
   "source": []
  }
 ],
 "metadata": {
  "kernelspec": {
   "display_name": "Python 3",
   "language": "python",
   "name": "python3"
  },
  "language_info": {
   "codemirror_mode": {
    "name": "ipython",
    "version": 3
   },
   "file_extension": ".py",
   "mimetype": "text/x-python",
   "name": "python",
   "nbconvert_exporter": "python",
   "pygments_lexer": "ipython3",
   "version": "3.7.3"
  }
 },
 "nbformat": 4,
 "nbformat_minor": 2
}
