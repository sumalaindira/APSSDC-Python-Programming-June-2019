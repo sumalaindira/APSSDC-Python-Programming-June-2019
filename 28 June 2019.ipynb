{
 "cells": [
  {
   "cell_type": "markdown",
   "metadata": {},
   "source": [
    "### Day Objectives\n",
    "\n",
    "- Map\n",
    "- Lambda\n",
    "- Filter\n",
    "- Use cases - File/Data Encryption"
   ]
  },
  {
   "cell_type": "code",
   "execution_count": null,
   "metadata": {},
   "outputs": [],
   "source": [
    "# Implimentation Of MAPS\n",
    "\n",
    "Mapping - Entity with a Function\n",
    "\n",
    "F : X^2 + 3*x + 9\n",
    "    \n",
    "X : [1,10]\n",
    "    \n",
    "f(x) \n",
    "\n",
    "f(1) ->13\n",
    "f(2) ->19\n",
    ".\n",
    ".\n",
    ".\n",
    "ect\n",
    "\n",
    "x             y\n",
    "1             13\n",
    "2             19\n",
    "3             .\n",
    "4\n",
    "5\n",
    "6\n",
    "\n",
    "\n",
    "map(function,Iterable)\n",
    "\n",
    "\n"
   ]
  },
  {
   "cell_type": "code",
   "execution_count": 19,
   "metadata": {},
   "outputs": [
    {
     "name": "stdout",
     "output_type": "stream",
     "text": [
      "1 2 34 5\n"
     ]
    },
    {
     "data": {
      "text/plain": [
       "['1', '2', '34', '5']"
      ]
     },
     "execution_count": 19,
     "metadata": {},
     "output_type": "execute_result"
    }
   ],
   "source": [
    "s = input().split()\n",
    "s"
   ]
  },
  {
   "cell_type": "code",
   "execution_count": 18,
   "metadata": {},
   "outputs": [
    {
     "data": {
      "text/plain": [
       "[1, 2, 34, 5]"
      ]
     },
     "execution_count": 18,
     "metadata": {},
     "output_type": "execute_result"
    }
   ],
   "source": [
    "s1=[]\n",
    "for i in range(len(s)):\n",
    "    s1.append(int(s[i]))\n",
    "s1"
   ]
  },
  {
   "cell_type": "code",
   "execution_count": 23,
   "metadata": {},
   "outputs": [
    {
     "name": "stdout",
     "output_type": "stream",
     "text": [
      "245 789 58\n",
      "[245, 789, 58]\n"
     ]
    }
   ],
   "source": [
    "#s = input().split()\n",
    "#print(s)\n",
    "s1 = list(map(int,input().split()))\n",
    "print(s1)"
   ]
  },
  {
   "cell_type": "code",
   "execution_count": 24,
   "metadata": {},
   "outputs": [],
   "source": [
    "def even(n):\n",
    "    return not n%2"
   ]
  },
  {
   "cell_type": "code",
   "execution_count": 32,
   "metadata": {},
   "outputs": [
    {
     "data": {
      "text/plain": [
       "[58]"
      ]
     },
     "execution_count": 32,
     "metadata": {},
     "output_type": "execute_result"
    }
   ],
   "source": [
    "list(filter(even,s1))"
   ]
  },
  {
   "cell_type": "code",
   "execution_count": 43,
   "metadata": {},
   "outputs": [
    {
     "data": {
      "text/plain": [
       "2"
      ]
     },
     "execution_count": 43,
     "metadata": {},
     "output_type": "execute_result"
    }
   ],
   "source": [
    "s = '01010'\n",
    "s1 ='10110'\n",
    "f = lambda x,y:x==y\n",
    "sum(list(map(f,s,s1)))"
   ]
  },
  {
   "cell_type": "code",
   "execution_count": 45,
   "metadata": {},
   "outputs": [
    {
     "data": {
      "text/plain": [
       "1"
      ]
     },
     "execution_count": 45,
     "metadata": {},
     "output_type": "execute_result"
    }
   ],
   "source": [
    "b=[True,False,True,True]\n",
    "len(b)-sum(b)"
   ]
  },
  {
   "cell_type": "code",
   "execution_count": 42,
   "metadata": {},
   "outputs": [
    {
     "data": {
      "text/plain": [
       "1"
      ]
     },
     "execution_count": 42,
     "metadata": {},
     "output_type": "execute_result"
    }
   ],
   "source": [
    "True + False"
   ]
  },
  {
   "cell_type": "code",
   "execution_count": 39,
   "metadata": {},
   "outputs": [
    {
     "data": {
      "text/plain": [
       "[3, 6, 8]"
      ]
     },
     "execution_count": 39,
     "metadata": {},
     "output_type": "execute_result"
    }
   ],
   "source": [
    "l=[1,2,3]\n",
    "l1 =[2,4,5]\n",
    "#l2=[3,6,8]\n",
    "l2=[]\n",
    "#for i in range(len(l)):\n",
    "#    l2.append(l[i]+l1[i])\n",
    "#l2\n",
    "f1 = lambda x,y:x+y\n",
    "list(map(f1,l,l1))"
   ]
  },
  {
   "cell_type": "code",
   "execution_count": null,
   "metadata": {},
   "outputs": [],
   "source": [
    "def f(x,y):\n",
    "    return x==y"
   ]
  },
  {
   "cell_type": "code",
   "execution_count": 13,
   "metadata": {},
   "outputs": [
    {
     "name": "stdout",
     "output_type": "stream",
     "text": [
      "2\n",
      "4\n",
      "8\n",
      "16\n"
     ]
    },
    {
     "data": {
      "text/plain": [
       "16"
      ]
     },
     "execution_count": 13,
     "metadata": {},
     "output_type": "execute_result"
    }
   ],
   "source": [
    "def powerN(a,n):\n",
    "    \n",
    "    #return a ** n\n",
    "    r = 1\n",
    "    for i in range(0,n+1):\n",
    "        r *= a\n",
    "        print(r)\n",
    "    return r    \n",
    "powerN(2,3)"
   ]
  },
  {
   "cell_type": "code",
   "execution_count": 16,
   "metadata": {},
   "outputs": [
    {
     "ename": "RecursionError",
     "evalue": "maximum recursion depth exceeded in comparison",
     "output_type": "error",
     "traceback": [
      "\u001b[1;31m---------------------------------------------------------------------------\u001b[0m",
      "\u001b[1;31mRecursionError\u001b[0m                            Traceback (most recent call last)",
      "\u001b[1;32m<ipython-input-16-22f028282372>\u001b[0m in \u001b[0;36m<module>\u001b[1;34m\u001b[0m\n\u001b[0;32m      5\u001b[0m         \u001b[1;32mreturn\u001b[0m \u001b[0ma\u001b[0m \u001b[1;33m*\u001b[0m \u001b[0mrecrsivePowerN\u001b[0m\u001b[1;33m(\u001b[0m\u001b[0ma\u001b[0m\u001b[1;33m,\u001b[0m\u001b[0mn\u001b[0m\u001b[1;33m)\u001b[0m\u001b[1;33m\u001b[0m\u001b[1;33m\u001b[0m\u001b[0m\n\u001b[0;32m      6\u001b[0m \u001b[1;33m\u001b[0m\u001b[0m\n\u001b[1;32m----> 7\u001b[1;33m \u001b[0mrecrsivePowerN\u001b[0m\u001b[1;33m(\u001b[0m\u001b[1;36m2\u001b[0m\u001b[1;33m,\u001b[0m\u001b[1;36m3\u001b[0m\u001b[1;33m)\u001b[0m\u001b[1;33m\u001b[0m\u001b[1;33m\u001b[0m\u001b[0m\n\u001b[0m",
      "\u001b[1;32m<ipython-input-16-22f028282372>\u001b[0m in \u001b[0;36mrecrsivePowerN\u001b[1;34m(a, n)\u001b[0m\n\u001b[0;32m      3\u001b[0m         \u001b[1;32mreturn\u001b[0m \u001b[1;36m1\u001b[0m\u001b[1;33m\u001b[0m\u001b[1;33m\u001b[0m\u001b[0m\n\u001b[0;32m      4\u001b[0m     \u001b[1;32melse\u001b[0m\u001b[1;33m:\u001b[0m\u001b[1;33m\u001b[0m\u001b[1;33m\u001b[0m\u001b[0m\n\u001b[1;32m----> 5\u001b[1;33m         \u001b[1;32mreturn\u001b[0m \u001b[0ma\u001b[0m \u001b[1;33m*\u001b[0m \u001b[0mrecrsivePowerN\u001b[0m\u001b[1;33m(\u001b[0m\u001b[0ma\u001b[0m\u001b[1;33m,\u001b[0m\u001b[0mn\u001b[0m\u001b[1;33m)\u001b[0m\u001b[1;33m\u001b[0m\u001b[1;33m\u001b[0m\u001b[0m\n\u001b[0m\u001b[0;32m      6\u001b[0m \u001b[1;33m\u001b[0m\u001b[0m\n\u001b[0;32m      7\u001b[0m \u001b[0mrecrsivePowerN\u001b[0m\u001b[1;33m(\u001b[0m\u001b[1;36m2\u001b[0m\u001b[1;33m,\u001b[0m\u001b[1;36m3\u001b[0m\u001b[1;33m)\u001b[0m\u001b[1;33m\u001b[0m\u001b[1;33m\u001b[0m\u001b[0m\n",
      "... last 1 frames repeated, from the frame below ...\n",
      "\u001b[1;32m<ipython-input-16-22f028282372>\u001b[0m in \u001b[0;36mrecrsivePowerN\u001b[1;34m(a, n)\u001b[0m\n\u001b[0;32m      3\u001b[0m         \u001b[1;32mreturn\u001b[0m \u001b[1;36m1\u001b[0m\u001b[1;33m\u001b[0m\u001b[1;33m\u001b[0m\u001b[0m\n\u001b[0;32m      4\u001b[0m     \u001b[1;32melse\u001b[0m\u001b[1;33m:\u001b[0m\u001b[1;33m\u001b[0m\u001b[1;33m\u001b[0m\u001b[0m\n\u001b[1;32m----> 5\u001b[1;33m         \u001b[1;32mreturn\u001b[0m \u001b[0ma\u001b[0m \u001b[1;33m*\u001b[0m \u001b[0mrecrsivePowerN\u001b[0m\u001b[1;33m(\u001b[0m\u001b[0ma\u001b[0m\u001b[1;33m,\u001b[0m\u001b[0mn\u001b[0m\u001b[1;33m)\u001b[0m\u001b[1;33m\u001b[0m\u001b[1;33m\u001b[0m\u001b[0m\n\u001b[0m\u001b[0;32m      6\u001b[0m \u001b[1;33m\u001b[0m\u001b[0m\n\u001b[0;32m      7\u001b[0m \u001b[0mrecrsivePowerN\u001b[0m\u001b[1;33m(\u001b[0m\u001b[1;36m2\u001b[0m\u001b[1;33m,\u001b[0m\u001b[1;36m3\u001b[0m\u001b[1;33m)\u001b[0m\u001b[1;33m\u001b[0m\u001b[1;33m\u001b[0m\u001b[0m\n",
      "\u001b[1;31mRecursionError\u001b[0m: maximum recursion depth exceeded in comparison"
     ]
    }
   ],
   "source": [
    "def recrsivePowerN(a,n):\n",
    "    if n == 0:\n",
    "        return 1\n",
    "    else:  \n",
    "        return a * recrsivePowerN(a,n)\n",
    "    \n",
    "recrsivePowerN(2,3)      "
   ]
  },
  {
   "cell_type": "code",
   "execution_count": 26,
   "metadata": {},
   "outputs": [
    {
     "data": {
      "text/plain": [
       "{1860867}"
      ]
     },
     "execution_count": 26,
     "metadata": {},
     "output_type": "execute_result"
    }
   ],
   "source": [
    "def cube(n):\n",
    "    return n ** 3\n",
    "li=[1,2,3,4,5,6]\n",
    "\n",
    "set(map(cube,li))\n",
    "\n",
    "set(map(cube,[123]))\n",
    "\n"
   ]
  },
  {
   "cell_type": "code",
   "execution_count": 79,
   "metadata": {},
   "outputs": [
    {
     "data": {
      "text/plain": [
       "[1, 27, 8, 216, 343]"
      ]
     },
     "execution_count": 79,
     "metadata": {},
     "output_type": "execute_result"
    }
   ],
   "source": [
    "li = ['1','3','2','6','7']\n",
    "\n",
    "li2 = list(map(int,li)) # It is convert into the datatype\n",
    "li2\n",
    "li3 = list(map(str,li))\n",
    "\n",
    "li4 = list(map(float,li))\n",
    "\n",
    "tuple(map(float,li))\n",
    "\n",
    "numbers= [int(i) for i in li]\n",
    "[cube(i) for i in numbers]"
   ]
  },
  {
   "cell_type": "markdown",
   "metadata": {},
   "source": [
    "# Filter\n",
    "\n",
    "- Filter also a function mostly it's works on boolean True Values\n",
    "\n"
   ]
  },
  {
   "cell_type": "code",
   "execution_count": 43,
   "metadata": {},
   "outputs": [
    {
     "data": {
      "text/plain": [
       "['a', 'b', 'y']"
      ]
     },
     "execution_count": 43,
     "metadata": {},
     "output_type": "execute_result"
    }
   ],
   "source": [
    "# when we return the one value is False and another value is True then we got only string values\n",
    "li=[1,2,4,'a','b','y',8,9]\n",
    "\n",
    "def isDigit(c):\n",
    "    c= str(c)\n",
    "    if c.isdigit():\n",
    "        return 0\n",
    "    return 1\n",
    "\n",
    "isDigit('a')\n",
    "# using Filter\n",
    "\n",
    "list(filter(isDigit,li))"
   ]
  },
  {
   "cell_type": "code",
   "execution_count": 44,
   "metadata": {},
   "outputs": [
    {
     "data": {
      "text/plain": [
       "[1, 2, 4, 8, 9]"
      ]
     },
     "execution_count": 44,
     "metadata": {},
     "output_type": "execute_result"
    }
   ],
   "source": [
    "# when we return the one value is True and another value is False then we got only int values\n",
    "\n",
    "li=[1,2,4,'a','b','y',8,9]\n",
    "\n",
    "def isDigit(c):\n",
    "    c= str(c)\n",
    "    if c.isdigit():\n",
    "        return 100\n",
    "    return 0\n",
    "\n",
    "isDigit('a')\n",
    "# using Filter\n",
    "\n",
    "list(filter(isDigit,li))"
   ]
  },
  {
   "cell_type": "code",
   "execution_count": 45,
   "metadata": {},
   "outputs": [
    {
     "data": {
      "text/plain": [
       "[1, 2, 4, 'a', 'b', 'y', 8, 9]"
      ]
     },
     "execution_count": 45,
     "metadata": {},
     "output_type": "execute_result"
    }
   ],
   "source": [
    "# when we return the both the values are true gives the full of list values\n",
    "\n",
    "\n",
    "li=[1,2,4,'a','b','y',8,9]\n",
    "\n",
    "\n",
    "def isDigit(c):\n",
    "    c= str(c)\n",
    "    if c.isdigit():\n",
    "        return -1\n",
    "    return 1\n",
    "\n",
    "isDigit('a')\n",
    "# using Filter\n",
    "\n",
    "list(filter(isDigit,li))"
   ]
  },
  {
   "cell_type": "code",
   "execution_count": 83,
   "metadata": {},
   "outputs": [
    {
     "data": {
      "text/plain": [
       "[]"
      ]
     },
     "execution_count": 83,
     "metadata": {},
     "output_type": "execute_result"
    }
   ],
   "source": [
    "# Filter the all the prime numbers\n",
    "\n",
    "def isPrime(n):\n",
    "    for num in range(2,n+1):\n",
    "        count = 0\n",
    "        if n % num == 0:\n",
    "                count += 1\n",
    "    if count == 2:\n",
    "        return 1\n",
    "    return 0           \n",
    "        \n",
    "#isPrime(10)\n",
    "lb,ub = 500,600\n",
    "primeList = list(filter(isPrime,range(lb,ub+1)))\n",
    "primeList2 =[i for i in range(lb,ub+1) if isPrime(i)]\n",
    "primeList2"
   ]
  },
  {
   "cell_type": "code",
   "execution_count": null,
   "metadata": {},
   "outputs": [],
   "source": [
    "def prime(n):\n",
    "    if n < 2:\n",
    "        return False\n",
    "    for i in range(2,n//2+1):\n",
    "        "
   ]
  },
  {
   "cell_type": "markdown",
   "metadata": {},
   "source": [
    "### Lambda\n",
    "\n",
    "Anonymous Function \n",
    "\n",
    "can be embedded into List Comprehension,Maps,Filters"
   ]
  },
  {
   "cell_type": "code",
   "execution_count": 88,
   "metadata": {},
   "outputs": [
    {
     "data": {
      "text/plain": [
       "[<function __main__.<listcomp>.<lambda>(x)>,\n",
       " <function __main__.<listcomp>.<lambda>(x)>,\n",
       " <function __main__.<listcomp>.<lambda>(x)>,\n",
       " <function __main__.<listcomp>.<lambda>(x)>,\n",
       " <function __main__.<listcomp>.<lambda>(x)>,\n",
       " <function __main__.<listcomp>.<lambda>(x)>,\n",
       " <function __main__.<listcomp>.<lambda>(x)>,\n",
       " <function __main__.<listcomp>.<lambda>(x)>,\n",
       " <function __main__.<listcomp>.<lambda>(x)>,\n",
       " <function __main__.<listcomp>.<lambda>(x)>]"
      ]
     },
     "execution_count": 88,
     "metadata": {},
     "output_type": "execute_result"
    }
   ],
   "source": [
    "a= [lambda x: x%2 == 0  for x in range (1,11)]\n",
    "a"
   ]
  },
  {
   "cell_type": "code",
   "execution_count": 94,
   "metadata": {},
   "outputs": [
    {
     "data": {
      "text/plain": [
       "[1, 3, 5]"
      ]
     },
     "execution_count": 94,
     "metadata": {},
     "output_type": "execute_result"
    }
   ],
   "source": [
    "a= lambda x:x ** 3\n",
    "a(3)\n",
    "\n",
    "list(map(lambda x:x**3,[1,2,3,4,5,6]))\n",
    "\n",
    "list(filter(lambda x: x%2 == 0,[1,2,3,4,5,6])) even numbers\n",
    "\n",
    "list(filter(lambda x: x%2 != 0,[1,2,3,4,5,6])) ord numbers"
   ]
  },
  {
   "cell_type": "code",
   "execution_count": 104,
   "metadata": {},
   "outputs": [
    {
     "data": {
      "text/plain": [
       "[4, 3]"
      ]
     },
     "execution_count": 104,
     "metadata": {},
     "output_type": "execute_result"
    }
   ],
   "source": [
    "from random import randint\n",
    "internalmark1 = [randint(0,25) for i in range(0,10)]\n",
    "internalmark2 = [randint(0,25)for i in range(0,10)] \n",
    "internalmark3 = [randint(0,25)for i in range(0,10)] \n",
    "internalmark2\n",
    "\n",
    "avginternal= list (map(lambda x,y,z:(x+y+z)//3 ,internalmark1, internalmark2,internalmark3))\n",
    "avginternal\n",
    "failedinternalMarks= list(filter(lambda x:x<10,avginternal))\n",
    "failedinternalMarks"
   ]
  },
  {
   "cell_type": "code",
   "execution_count": 4,
   "metadata": {},
   "outputs": [
    {
     "name": "stdout",
     "output_type": "stream",
     "text": [
      "Data write succefully...\n"
     ]
    }
   ],
   "source": [
    "from random import randint\n",
    "\n",
    "def generateMarks(n,lb,ub):\n",
    "    filename = 'DataFiles/marks.txt'\n",
    "    with open(filename,'w') as f:\n",
    "        for i in range(n):\n",
    "            marks = randint(lb,ub)\n",
    "            f.write(str(marks)+'\\n')\n",
    "        print('Data write succefully...')    \n",
    "generateMarks(300,0,100)   "
   ]
  },
  {
   "cell_type": "code",
   "execution_count": 1,
   "metadata": {},
   "outputs": [
    {
     "data": {
      "text/plain": [
       "47"
      ]
     },
     "execution_count": 1,
     "metadata": {},
     "output_type": "execute_result"
    }
   ],
   "source": [
    "\n",
    "def readMarksList(filepath):\n",
    "    with open(filepath,'r') as f:\n",
    "        filedata = f.read().split() \n",
    "        return list(map(int,filedata))\n",
    "    \n",
    "def classAverage(filepath):\n",
    "    with open(filepath,'r') as f:\n",
    "        filedata = f.read().split()\n",
    "       # markslist = re.split('\\n',filedata)\n",
    "        markslist = list(map(int,filedata))\n",
    "        return sum(markslist)//len(markslist)\n",
    "\n",
    "\n",
    "    \n",
    "classAverage('DataFiles/marks.txt')        "
   ]
  },
  {
   "cell_type": "code",
   "execution_count": 2,
   "metadata": {},
   "outputs": [
    {
     "data": {
      "text/plain": [
       "0.41333333333333333"
      ]
     },
     "execution_count": 2,
     "metadata": {},
     "output_type": "execute_result"
    }
   ],
   "source": [
    "def percentageFailed(filepath):\n",
    "    markslist = readMarksList(filepath)\n",
    "    failedCount = len(list(filter(lambda mark: mark < 40, markslist )))\n",
    "    \n",
    "    return (failedCount/len(markslist))\n",
    "filepath = 'DataFiles/marks.txt'\n",
    "percentageFailed(filepath)\n",
    "    "
   ]
  },
  {
   "cell_type": "code",
   "execution_count": 3,
   "metadata": {},
   "outputs": [
    {
     "data": {
      "text/plain": [
       "99.58666666666667"
      ]
     },
     "execution_count": 3,
     "metadata": {},
     "output_type": "execute_result"
    }
   ],
   "source": [
    "def percentagePassed(filepath):\n",
    "    return 100 - percentageFailed(filepath)\n",
    "percentagePassed(filepath)"
   ]
  },
  {
   "cell_type": "code",
   "execution_count": 4,
   "metadata": {},
   "outputs": [
    {
     "ename": "SyntaxError",
     "evalue": "invalid syntax (<ipython-input-4-a07bee9434b0>, line 4)",
     "output_type": "error",
     "traceback": [
      "\u001b[1;36m  File \u001b[1;32m\"<ipython-input-4-a07bee9434b0>\"\u001b[1;36m, line \u001b[1;32m4\u001b[0m\n\u001b[1;33m    return distinctionCount//len(markslist)*100\u001b[0m\n\u001b[1;37m         ^\u001b[0m\n\u001b[1;31mSyntaxError\u001b[0m\u001b[1;31m:\u001b[0m invalid syntax\n"
     ]
    }
   ],
   "source": [
    "def percentageDistinction(filepath):\n",
    "    markslist= readMarksList(filepath)\n",
    "    distinctionCount = len(list(filter(lambda marks: makrs > 70, markslist))\n",
    "    return distinctionCount//len(markslist)*100\n",
    "                           \n",
    "percentageDistinction(filepath)                           "
   ]
  },
  {
   "cell_type": "code",
   "execution_count": 7,
   "metadata": {},
   "outputs": [
    {
     "data": {
      "text/plain": [
       "2"
      ]
     },
     "execution_count": 7,
     "metadata": {},
     "output_type": "execute_result"
    }
   ],
   "source": [
    "def highestMarksFrequency(filepath):\n",
    "    marksList = readMarksList(filepath)\n",
    "    return marksList.count(max(marksList))\n",
    "\n",
    "highestMarksFrequency(filepath)"
   ]
  },
  {
   "cell_type": "code",
   "execution_count": 8,
   "metadata": {},
   "outputs": [
    {
     "data": {
      "text/plain": [
       "4"
      ]
     },
     "execution_count": 8,
     "metadata": {},
     "output_type": "execute_result"
    }
   ],
   "source": [
    "def lowestMarksFrequency(filepath):\n",
    "    marksList = readMarksList(filepath)\n",
    "    return marksList.count(min(marksList))\n",
    "\n",
    "lowestMarksFrequency(filepath)"
   ]
  },
  {
   "cell_type": "code",
   "execution_count": 11,
   "metadata": {},
   "outputs": [
    {
     "name": "stdout",
     "output_type": "stream",
     "text": [
      "Data write sucessfully...\n"
     ]
    }
   ],
   "source": [
    "keypath = 'DataFiles/marks.txt'\n",
    "def generateKey(keypath):\n",
    "    with open(keypath,'w')as f:\n",
    "        for i in range(300):\n",
    "            if i >= 6:\n",
    "                f.write(str(i)+' '+str(i + 4)+'\\n')\n",
    "            else:  \n",
    "                f.write(str(i)+' '+str(i - 6)+'\\n')\n",
    "        print(\"Data write sucessfully...\")        \n",
    "generateKey(keypath) "
   ]
  },
  {
   "cell_type": "markdown",
   "metadata": {},
   "source": [
    "### Data Encryption \n",
    "\n",
    "KEY - Mapping of characters with replaces "
   ]
  },
  {
   "cell_type": "code",
   "execution_count": 10,
   "metadata": {},
   "outputs": [
    {
     "name": "stdout",
     "output_type": "stream",
     "text": [
      "Data write sucessfully...\n"
     ]
    }
   ],
   "source": [
    "keypath = 'DataFiles/key.txt'\n",
    "def generateKey(keypath):\n",
    "    with open(keypath,'w')as f:\n",
    "        for i in range(10): \n",
    "            if i < 6:\n",
    "                f.write(str(i)+' '+str(i + 4)+'\\n')\n",
    "            else:  \n",
    "                f.write(str(i)+' '+str(i - 6)+'\\n')\n",
    "        print(\"Data write sucessfully...\")        \n",
    "generateKey(keypath)                "
   ]
  },
  {
   "cell_type": "code",
   "execution_count": 73,
   "metadata": {},
   "outputs": [
    {
     "ename": "FileNotFoundError",
     "evalue": "[Errno 2] No such file or directory: '../DataFiles/marks.txt'",
     "output_type": "error",
     "traceback": [
      "\u001b[1;31m---------------------------------------------------------------------------\u001b[0m",
      "\u001b[1;31mFileNotFoundError\u001b[0m                         Traceback (most recent call last)",
      "\u001b[1;32m<ipython-input-73-0b25a8af8b52>\u001b[0m in \u001b[0;36m<module>\u001b[1;34m\u001b[0m\n\u001b[0;32m     24\u001b[0m     \u001b[1;32mreturn\u001b[0m\u001b[1;33m\u001b[0m\u001b[1;33m\u001b[0m\u001b[0m\n\u001b[0;32m     25\u001b[0m \u001b[0mdatafile\u001b[0m \u001b[1;33m=\u001b[0m \u001b[1;34m'../DataFiles/marks.txt'\u001b[0m\u001b[1;33m\u001b[0m\u001b[1;33m\u001b[0m\u001b[0m\n\u001b[1;32m---> 26\u001b[1;33m \u001b[0mencryptMarksData\u001b[0m\u001b[1;33m(\u001b[0m\u001b[0mdatafile\u001b[0m\u001b[1;33m,\u001b[0m\u001b[0mkeyfile\u001b[0m\u001b[1;33m)\u001b[0m\u001b[1;33m\u001b[0m\u001b[1;33m\u001b[0m\u001b[0m\n\u001b[0m",
      "\u001b[1;32m<ipython-input-73-0b25a8af8b52>\u001b[0m in \u001b[0;36mencryptMarksData\u001b[1;34m(datafile, keyfile)\u001b[0m\n\u001b[0;32m     12\u001b[0m \u001b[1;32mdef\u001b[0m \u001b[0mencryptMarksData\u001b[0m\u001b[1;33m(\u001b[0m\u001b[0mdatafile\u001b[0m\u001b[1;33m,\u001b[0m\u001b[0mkeyfile\u001b[0m\u001b[1;33m)\u001b[0m\u001b[1;33m:\u001b[0m\u001b[1;33m\u001b[0m\u001b[1;33m\u001b[0m\u001b[0m\n\u001b[0;32m     13\u001b[0m     \u001b[0mkey\u001b[0m \u001b[1;33m=\u001b[0m \u001b[0mdictionaryKeyFile\u001b[0m\u001b[1;33m(\u001b[0m\u001b[0mkeyfile\u001b[0m\u001b[1;33m)\u001b[0m\u001b[1;33m\u001b[0m\u001b[1;33m\u001b[0m\u001b[0m\n\u001b[1;32m---> 14\u001b[1;33m     \u001b[1;32mwith\u001b[0m \u001b[0mopen\u001b[0m\u001b[1;33m(\u001b[0m\u001b[0mdatafile\u001b[0m\u001b[1;33m,\u001b[0m\u001b[1;34m'r'\u001b[0m\u001b[1;33m)\u001b[0m \u001b[1;32mas\u001b[0m \u001b[0mf\u001b[0m\u001b[1;33m:\u001b[0m\u001b[1;33m\u001b[0m\u001b[1;33m\u001b[0m\u001b[0m\n\u001b[0m\u001b[0;32m     15\u001b[0m         \u001b[0mfiledata\u001b[0m \u001b[1;33m=\u001b[0m \u001b[0mf\u001b[0m\u001b[1;33m.\u001b[0m\u001b[0mread\u001b[0m\u001b[1;33m(\u001b[0m\u001b[1;33m)\u001b[0m\u001b[1;33m.\u001b[0m\u001b[0msplit\u001b[0m\u001b[1;33m(\u001b[0m\u001b[1;34m'\\n'\u001b[0m\u001b[1;33m)\u001b[0m\u001b[1;33m\u001b[0m\u001b[1;33m\u001b[0m\u001b[0m\n\u001b[0;32m     16\u001b[0m     \u001b[1;32mwith\u001b[0m \u001b[0mopen\u001b[0m\u001b[1;33m(\u001b[0m\u001b[1;34m'../DataFiles/encryptedMarks.txt'\u001b[0m\u001b[1;33m,\u001b[0m\u001b[1;34m'w'\u001b[0m\u001b[1;33m)\u001b[0m \u001b[1;32mas\u001b[0m \u001b[0mf\u001b[0m\u001b[1;33m:\u001b[0m\u001b[1;33m\u001b[0m\u001b[1;33m\u001b[0m\u001b[0m\n",
      "\u001b[1;31mFileNotFoundError\u001b[0m: [Errno 2] No such file or directory: '../DataFiles/marks.txt'"
     ]
    }
   ],
   "source": [
    "keyfile = 'DataFiles/key.txt'\n",
    "\n",
    "def dictionaryKeyFile(keyfile):\n",
    "    key = {}\n",
    "    with open(keyfile,'r') as f:\n",
    "        for line in f:\n",
    "            line = line.split()\n",
    "            key[line[0]] = line[1]\n",
    "    return key  \n",
    "  \n",
    "#dictionaryKeyFile(keyfile)\n",
    "def encryptMarksData(datafile,keyfile):\n",
    "    key = dictionaryKeyFile(keyfile)\n",
    "    with open(datafile,'r') as f:\n",
    "        filedata = f.read().split('\\n')\n",
    "    with open('../DataFiles/encryptedMarks.txt','w') as f:\n",
    "        for mark in filedata:\n",
    "            line = ''\n",
    "            for n in mark: \n",
    "                line += key[n]\n",
    "                print(line)\n",
    "            f.write(line + '\\n')    \n",
    "        \n",
    "    return\n",
    "datafile = '../DataFiles/marks.txt'\n",
    "encryptMarksData(datafile,keyfile)"
   ]
  },
  {
   "cell_type": "code",
   "execution_count": 68,
   "metadata": {},
   "outputs": [
    {
     "ename": "KeyError",
     "evalue": "'4'",
     "output_type": "error",
     "traceback": [
      "\u001b[1;31m---------------------------------------------------------------------------\u001b[0m",
      "\u001b[1;31mKeyError\u001b[0m                                  Traceback (most recent call last)",
      "\u001b[1;32m<ipython-input-68-1ed1122aeeaf>\u001b[0m in \u001b[0;36m<module>\u001b[1;34m\u001b[0m\n\u001b[0;32m     17\u001b[0m     \u001b[1;32mreturn\u001b[0m\u001b[1;33m\u001b[0m\u001b[1;33m\u001b[0m\u001b[0m\n\u001b[0;32m     18\u001b[0m \u001b[0mencryptedfile\u001b[0m \u001b[1;33m=\u001b[0m\u001b[1;34m'DataFiles/encryptedMarks.txt'\u001b[0m\u001b[1;33m\u001b[0m\u001b[1;33m\u001b[0m\u001b[0m\n\u001b[1;32m---> 19\u001b[1;33m \u001b[0mdecryptMarksData\u001b[0m\u001b[1;33m(\u001b[0m\u001b[0mencryptedfile\u001b[0m\u001b[1;33m,\u001b[0m\u001b[0mkeyfile\u001b[0m\u001b[1;33m)\u001b[0m\u001b[1;33m\u001b[0m\u001b[1;33m\u001b[0m\u001b[0m\n\u001b[0m",
      "\u001b[1;32m<ipython-input-68-1ed1122aeeaf>\u001b[0m in \u001b[0;36mdecryptMarksData\u001b[1;34m(encryptedfile, keyfile)\u001b[0m\n\u001b[0;32m      4\u001b[0m     \u001b[0mnewkey\u001b[0m \u001b[1;33m=\u001b[0m\u001b[1;33m{\u001b[0m\u001b[1;33m}\u001b[0m\u001b[1;33m\u001b[0m\u001b[1;33m\u001b[0m\u001b[0m\n\u001b[0;32m      5\u001b[0m     \u001b[1;32mfor\u001b[0m \u001b[0mkey\u001b[0m\u001b[1;33m,\u001b[0m\u001b[0mvalue\u001b[0m \u001b[1;32min\u001b[0m \u001b[0mkey\u001b[0m\u001b[1;33m.\u001b[0m\u001b[0mitems\u001b[0m\u001b[1;33m(\u001b[0m\u001b[1;33m)\u001b[0m\u001b[1;33m:\u001b[0m\u001b[1;33m\u001b[0m\u001b[1;33m\u001b[0m\u001b[0m\n\u001b[1;32m----> 6\u001b[1;33m         \u001b[0mnewkey\u001b[0m\u001b[1;33m[\u001b[0m\u001b[0mvalue\u001b[0m\u001b[1;33m]\u001b[0m\u001b[1;33m==\u001b[0m\u001b[0mkey\u001b[0m\u001b[1;33m\u001b[0m\u001b[1;33m\u001b[0m\u001b[0m\n\u001b[0m\u001b[0;32m      7\u001b[0m     \u001b[1;32mwith\u001b[0m \u001b[0mopen\u001b[0m\u001b[1;33m(\u001b[0m\u001b[0mencryptedfile\u001b[0m\u001b[1;33m,\u001b[0m\u001b[1;34m'r'\u001b[0m\u001b[1;33m)\u001b[0m \u001b[1;32mas\u001b[0m \u001b[0mf\u001b[0m\u001b[1;33m:\u001b[0m\u001b[1;33m\u001b[0m\u001b[1;33m\u001b[0m\u001b[0m\n\u001b[0;32m      8\u001b[0m         \u001b[0mencrypteddata\u001b[0m \u001b[1;33m=\u001b[0m \u001b[0mf\u001b[0m\u001b[1;33m.\u001b[0m\u001b[0mread\u001b[0m\u001b[1;33m(\u001b[0m\u001b[1;33m)\u001b[0m\u001b[1;33m.\u001b[0m\u001b[0msplit\u001b[0m\u001b[1;33m(\u001b[0m\u001b[1;34m'\\n'\u001b[0m\u001b[1;33m)\u001b[0m\u001b[1;33m\u001b[0m\u001b[1;33m\u001b[0m\u001b[0m\n",
      "\u001b[1;31mKeyError\u001b[0m: '4'"
     ]
    }
   ],
   "source": [
    "def decryptMarksData(encryptedfile,keyfile):\n",
    "    key = dictionaryKeyFile(keyfile)\n",
    "    #key = key.items()\n",
    "    newkey ={}\n",
    "    for key,value in key.items():\n",
    "        newkey[value]==key\n",
    "    with open(encryptedfile,'r') as f:\n",
    "        encrypteddata = f.read().split('\\n')\n",
    "    with open('DataFiles/decryptedMarks.txt','w') as f:   \n",
    "        \n",
    "        for encryptedmark in encrypteddata:\n",
    "            line=''\n",
    "            for n in encryptedmark:\n",
    "                line += newkey[n]\n",
    "            f.write(line +'\\n') \n",
    "            \n",
    "    return   \n",
    "encryptedfile ='DataFiles/encryptedMarks.txt'\n",
    "decryptMarksData(encryptedfile,keyfile)"
   ]
  },
  {
   "cell_type": "code",
   "execution_count": null,
   "metadata": {},
   "outputs": [],
   "source": []
  }
 ],
 "metadata": {
  "kernelspec": {
   "display_name": "Python 3",
   "language": "python",
   "name": "python3"
  },
  "language_info": {
   "codemirror_mode": {
    "name": "ipython",
    "version": 3
   },
   "file_extension": ".py",
   "mimetype": "text/x-python",
   "name": "python",
   "nbconvert_exporter": "python",
   "pygments_lexer": "ipython3",
   "version": "3.7.3"
  }
 },
 "nbformat": 4,
 "nbformat_minor": 2
}
