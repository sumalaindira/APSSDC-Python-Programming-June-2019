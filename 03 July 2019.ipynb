{
 "cells": [
  {
   "cell_type": "markdown",
   "metadata": {},
   "source": [
    "### App Store Dataset\n",
    "\n",
    "- List of all unique Prime_Genres(categories) in the dataset\n",
    "- Category with highest number of apps\n",
    "- Category with lowest number of apps\n",
    "- Category with highest user rating\n",
    "- App with highest downloads\n",
    "- Category with highest average rating count\n",
    "- Average user rating for free apps\n",
    "- Average user rating for paid apps\n",
    "- Category with highest average user rating for paid apps\n",
    "- Most frequent Price point > 0\n",
    "- Compare average user rating for paid vs free gaming apps"
   ]
  },
  {
   "cell_type": "code",
   "execution_count": 3,
   "metadata": {},
   "outputs": [
    {
     "data": {
      "text/plain": [
       "array(['Games', 'Productivity', 'Weather', 'Shopping', 'Reference',\n",
       "       'Finance', 'Music', 'Utilities', 'Travel', 'Social Networking',\n",
       "       'Sports', 'Business', 'Health & Fitness', 'Entertainment',\n",
       "       'Photo & Video', 'Navigation', 'Education', 'Lifestyle',\n",
       "       'Food & Drink', 'News', 'Book', 'Medical', 'Catalogs'],\n",
       "      dtype=object)"
      ]
     },
     "execution_count": 3,
     "metadata": {},
     "output_type": "execute_result"
    }
   ],
   "source": [
    "#List of all unique Prime_Genres(categories) in the dataset\n",
    "\n",
    "import pandas as pd\n",
    "\n",
    "filename='DataFiles/AppleStore.xls'\n",
    "income=pd.read_csv(filename)\n",
    "income.prime_genre.unique()\n",
    "\n"
   ]
  },
  {
   "cell_type": "code",
   "execution_count": 57,
   "metadata": {},
   "outputs": [
    {
     "data": {
      "text/plain": [
       "'Games'"
      ]
     },
     "execution_count": 57,
     "metadata": {},
     "output_type": "execute_result"
    }
   ],
   "source": [
    "# Category with highest number of apps\n",
    "\n",
    "\n",
    "import pandas as pd\n",
    "\n",
    "filename='DataFiles/AppleStore.xls'\n",
    "appStore=pd.read_csv(filename)\n",
    "appStore.prime_genre.count()\n",
    "appStoredf = appStore.groupby([\"prime_genre\"]).size().reset_index(name='app_Count')\n",
    "appStoredf.loc[appStoredf['app_Count'] == appStoredf['app_Count'].max(), 'prime_genre'].iloc[0]\n",
    "\n"
   ]
  },
  {
   "cell_type": "code",
   "execution_count": 58,
   "metadata": {},
   "outputs": [
    {
     "data": {
      "text/plain": [
       "'Catalogs'"
      ]
     },
     "execution_count": 58,
     "metadata": {},
     "output_type": "execute_result"
    }
   ],
   "source": [
    "# Category with lowest number of apps\n",
    "\n",
    "\n",
    "import pandas as pd\n",
    "\n",
    "filename='DataFiles/AppleStore.xls'\n",
    "appStore=pd.read_csv(filename)\n",
    "appStore.prime_genre.count()\n",
    "appStoredf = appStore.groupby([\"prime_genre\"]).size().reset_index(name='app_Count')\n",
    "appStoredf.loc[appStoredf['app_Count'] == appStoredf['app_Count'].min(), 'prime_genre'].iloc[0]\n",
    "\n"
   ]
  },
  {
   "cell_type": "code",
   "execution_count": 63,
   "metadata": {},
   "outputs": [
    {
     "data": {
      "text/plain": [
       "'Productivity'"
      ]
     },
     "execution_count": 63,
     "metadata": {},
     "output_type": "execute_result"
    }
   ],
   "source": [
    "# Category with highest user rating\n",
    "\n",
    "hdf = appStore.loc[appStore['prime_genre'] == appStore.groupby(['prime_genre'])['user_rating'].mean().idxmax(),['prime_genre']]\n",
    "hdf['prime_genre'].unique().tolist()[0]"
   ]
  },
  {
   "cell_type": "code",
   "execution_count": 67,
   "metadata": {},
   "outputs": [
    {
     "data": {
      "text/plain": [
       "'Facebook'"
      ]
     },
     "execution_count": 67,
     "metadata": {},
     "output_type": "execute_result"
    }
   ],
   "source": [
    "# App with highest downloads\n",
    "\n",
    "appStore.loc[appStore['rating_count_tot'] == appStore['rating_count_tot'].max(), 'track_name'].iloc[0]\n"
   ]
  },
  {
   "cell_type": "code",
   "execution_count": 68,
   "metadata": {},
   "outputs": [
    {
     "data": {
      "text/plain": [
       "'Social Networking'"
      ]
     },
     "execution_count": 68,
     "metadata": {},
     "output_type": "execute_result"
    }
   ],
   "source": [
    "# Category with highest average rating count\n",
    "\n",
    "appStore = appStore.groupby(['prime_genre'])['rating_count_tot'].mean().reset_index(name='average')\n",
    "appStore.loc[appStore['average'] == appStore['average'].max(), 'prime_genre'].iloc[0]\n",
    "  "
   ]
  },
  {
   "cell_type": "code",
   "execution_count": 75,
   "metadata": {},
   "outputs": [
    {
     "data": {
      "text/plain": [
       "3.3767258382642997"
      ]
     },
     "execution_count": 75,
     "metadata": {},
     "output_type": "execute_result"
    }
   ],
   "source": [
    "#Average user rating for free apps\n",
    "import pandas as pd\n",
    "\n",
    "filename='DataFiles/AppleStore.xls'\n",
    "appStore=pd.read_csv(filename)\n",
    "appStore.loc[appStore['price'] == 0.00, 'user_rating'].mean()"
   ]
  },
  {
   "cell_type": "code",
   "execution_count": 76,
   "metadata": {},
   "outputs": [
    {
     "data": {
      "text/plain": [
       "3.720948742438714"
      ]
     },
     "execution_count": 76,
     "metadata": {},
     "output_type": "execute_result"
    }
   ],
   "source": [
    "#Average user rating for paid apps\n",
    "\n",
    "appStore.loc[appStore['price'] != 0.00, 'user_rating'].mean()"
   ]
  },
  {
   "cell_type": "code",
   "execution_count": 83,
   "metadata": {},
   "outputs": [
    {
     "data": {
      "text/plain": [
       "'Catalogs'"
      ]
     },
     "execution_count": 83,
     "metadata": {},
     "output_type": "execute_result"
    }
   ],
   "source": [
    "# Category with highest average user rating for paid apps\n",
    "paidDf = appStore.loc[appStore['price'] != 0,['prime_genre','user_rating','price']]\n",
    "paidDf = paidDf.groupby(['prime_genre'])['user_rating'].mean().reset_index(name='average')\n",
    "paidDf.loc[paidDf['average'] == paidDf['average'].max(), 'prime_genre'].iloc[0]\n",
    "    "
   ]
  },
  {
   "cell_type": "code",
   "execution_count": 84,
   "metadata": {},
   "outputs": [
    {
     "data": {
      "text/plain": [
       "0.99"
      ]
     },
     "execution_count": 84,
     "metadata": {},
     "output_type": "execute_result"
    }
   ],
   "source": [
    "# Most frequent Price point > 0\n",
    "paidDf = appStore.loc[appStore['price'] != 0,['price']]\n",
    "paidDf = paidDf.groupby(['price'])['price'].count().reset_index(name='count')\n",
    "paidDf.loc[paidDf['count'] == paidDf['count'].max(), 'price'].iloc[0]\n"
   ]
  },
  {
   "cell_type": "code",
   "execution_count": 85,
   "metadata": {},
   "outputs": [
    {
     "name": "stdout",
     "output_type": "stream",
     "text": [
      "3.9049844236760123 , 3.5285777580859548\n"
     ]
    }
   ],
   "source": [
    "# Category with highest average user rating for paid apps\n",
    "\n",
    "paidDf = appStore.loc[appStore['prime_genre'] == 'Games',['prime_genre','price','user_rating']]    \n",
    "paidAvearge = paidDf.loc[paidDf['price'] != 0.00,'user_rating'].mean()\n",
    "freeAvearge = paidDf.loc[paidDf['price'] == 0.00, 'user_rating'].mean()\n",
    "print(paidAvearge,',',freeAvearge)"
   ]
  },
  {
   "cell_type": "code",
   "execution_count": null,
   "metadata": {},
   "outputs": [],
   "source": []
  }
 ],
 "metadata": {
  "kernelspec": {
   "display_name": "Python 3",
   "language": "python",
   "name": "python3"
  },
  "language_info": {
   "codemirror_mode": {
    "name": "ipython",
    "version": 3
   },
   "file_extension": ".py",
   "mimetype": "text/x-python",
   "name": "python",
   "nbconvert_exporter": "python",
   "pygments_lexer": "ipython3",
   "version": "3.7.3"
  }
 },
 "nbformat": 4,
 "nbformat_minor": 2
}
