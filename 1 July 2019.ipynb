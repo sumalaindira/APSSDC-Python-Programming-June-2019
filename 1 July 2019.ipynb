{
 "cells": [
  {
   "cell_type": "markdown",
   "metadata": {},
   "source": [
    "## Today Ojectives\n",
    "\n",
    "- ID,Name\n",
    "- Memory Address,\n",
    "\n",
    "\n",
    "- Alias:\n",
    "  - int & x = y  --> alias name \n",
    "  - Ln x backup/x alias name in os\n",
    "  - Softlinks\n",
    "  - Shortcuts In windows\n",
    "  - ln -s"
   ]
  },
  {
   "cell_type": "code",
   "execution_count": null,
   "metadata": {},
   "outputs": [],
   "source": [
    "a\n",
    "ascii"
   ]
  },
  {
   "cell_type": "code",
   "execution_count": 78,
   "metadata": {},
   "outputs": [
    {
     "name": "stdout",
     "output_type": "stream",
     "text": [
      "Alabama 41126.444444444445\n",
      "Alaska 60106.555555555555\n",
      "Arizona 47214.555555555555\n",
      "Arkansas 38828.88888888889\n",
      "California 55350.444444444445\n"
     ]
    }
   ],
   "source": [
    "# Average Income of all states from 2005 to 2013\n",
    "\n",
    "filepath = 'DataFiles/Income.csv'\n",
    "import pandas as pd\n",
    "def readCSVdata(filepath):\n",
    "    incomedf=pd.read_csv(filepath)\n",
    "    df = pd.DataFrame(incomedf)\n",
    "    #print(df)\n",
    "    for row in df.values:\n",
    "        print(row[1],end=' ')\n",
    "        sum=0 \n",
    "        c=0\n",
    "        for i in range(2,len(row)):\n",
    "            sum += int(row[i])\n",
    "            c += 1\n",
    "        print( sum/c)    \n",
    "\n",
    "readCSVdata(filepath)"
   ]
  },
  {
   "cell_type": "code",
   "execution_count": 28,
   "metadata": {},
   "outputs": [
    {
     "name": "stdout",
     "output_type": "stream",
     "text": [
      "0    41126.444444\n",
      "1    60106.555556\n",
      "2    48967.888889\n",
      "3    38828.888889\n",
      "4    55350.444444\n",
      "dtype: float64\n"
     ]
    }
   ],
   "source": [
    "filepath = 'DataFiles/Income.csv'\n",
    "import pandas as pd\n",
    "\n",
    "incomedf=pd.read_csv(filepath)\n",
    "#incomedf\n",
    "df = pd.DataFrame(incomedf)\n",
    "print(df.mean(axis=1))  # row wise avg of the table\n",
    "\n",
    "print(df.mean(axis=0))  #column wise avg of the table\n",
    "\n",
    "    \n",
    "   "
   ]
  },
  {
   "cell_type": "code",
   "execution_count": 28,
   "metadata": {},
   "outputs": [
    {
     "name": "stdout",
     "output_type": "stream",
     "text": [
      "244380.2222222222\n"
     ]
    }
   ],
   "source": [
    "# Combined Average Income of all states from 2005 to 2013\n",
    "\n",
    "filepath= 'DataFiles/Income.csv'\n",
    "import pandas as pd\n",
    "\n",
    "def combinedIncome(filepath):\n",
    "    li=[]\n",
    "    incomedf = pd.read_csv(filepath)\n",
    "    df= pd.DataFrame(incomedf)\n",
    "    sum1= 0\n",
    "    for item in df.values:\n",
    "        sum=0 \n",
    "        count=0\n",
    "        for i in range(2,len(item)):\n",
    "            sum += int(item[i])\n",
    "            count += 1\n",
    "        avg = (sum/count)\n",
    "        #print(avg)\n",
    "        sum1 += avg\n",
    "    print(sum1)    \n",
    "    \n",
    "combinedIncome(filepath)        "
   ]
  },
  {
   "cell_type": "code",
   "execution_count": 69,
   "metadata": {},
   "outputs": [
    {
     "name": "stdout",
     "output_type": "stream",
     "text": [
      "Alaska 60633.5\n"
     ]
    }
   ],
   "source": [
    "# State with highest average income in the last three years\n",
    "\n",
    "filepath = 'DataFiles/Income.csv'\n",
    "import pandas as pd\n",
    "def readCSVdata(filepath):\n",
    "    incomedf=pd.read_csv(filepath)\n",
    "    df = pd.DataFrame(incomedf)\n",
    "    #print(df)\n",
    "    li={}\n",
    "    for row in df.values:\n",
    "        sum=0 \n",
    "        c=0\n",
    "        d=len(row[-3:])\n",
    "        for i in range(d,len(row)):\n",
    "            sum += int(row[i])\n",
    "            c += 1\n",
    "        \n",
    "        li[row[1]] =sum/c\n",
    "    max_value = max(li.values())  # maximum value\n",
    "    max_keys = [k for k, v in li.items() if v == max_value] # getting all keys containing the `maximum`\n",
    "\n",
    "    print(max_keys[0],max_value)\n",
    "    \n",
    "        \n",
    "          \n",
    "\n",
    "readCSVdata(filepath)"
   ]
  },
  {
   "cell_type": "code",
   "execution_count": 55,
   "metadata": {},
   "outputs": [
    {
     "data": {
      "text/html": [
       "<div>\n",
       "<style scoped>\n",
       "    .dataframe tbody tr th:only-of-type {\n",
       "        vertical-align: middle;\n",
       "    }\n",
       "\n",
       "    .dataframe tbody tr th {\n",
       "        vertical-align: top;\n",
       "    }\n",
       "\n",
       "    .dataframe thead th {\n",
       "        text-align: right;\n",
       "    }\n",
       "</style>\n",
       "<table border=\"1\" class=\"dataframe\">\n",
       "  <thead>\n",
       "    <tr style=\"text-align: right;\">\n",
       "      <th></th>\n",
       "      <th>GEOID</th>\n",
       "      <th>State</th>\n",
       "      <th>2005</th>\n",
       "      <th>2006</th>\n",
       "      <th>2007</th>\n",
       "      <th>2008</th>\n",
       "      <th>2009</th>\n",
       "      <th>2010</th>\n",
       "      <th>2011</th>\n",
       "      <th>2012</th>\n",
       "      <th>2013</th>\n",
       "    </tr>\n",
       "  </thead>\n",
       "  <tbody>\n",
       "    <tr>\n",
       "      <th>0</th>\n",
       "      <td>04000US01</td>\n",
       "      <td>Alabama</td>\n",
       "      <td>37150</td>\n",
       "      <td>37952</td>\n",
       "      <td>42212</td>\n",
       "      <td>44476</td>\n",
       "      <td>39980</td>\n",
       "      <td>40933</td>\n",
       "      <td>42590</td>\n",
       "      <td>43464</td>\n",
       "      <td>41381</td>\n",
       "    </tr>\n",
       "    <tr>\n",
       "      <th>1</th>\n",
       "      <td>04000US02</td>\n",
       "      <td>Alaska</td>\n",
       "      <td>55891</td>\n",
       "      <td>56418</td>\n",
       "      <td>62993</td>\n",
       "      <td>63989</td>\n",
       "      <td>61604</td>\n",
       "      <td>57848</td>\n",
       "      <td>57431</td>\n",
       "      <td>63648</td>\n",
       "      <td>61137</td>\n",
       "    </tr>\n",
       "    <tr>\n",
       "      <th>2</th>\n",
       "      <td>04000US04</td>\n",
       "      <td>Arizona</td>\n",
       "      <td>45245</td>\n",
       "      <td>46657</td>\n",
       "      <td>62993</td>\n",
       "      <td>46914</td>\n",
       "      <td>45739</td>\n",
       "      <td>46896</td>\n",
       "      <td>48621</td>\n",
       "      <td>47044</td>\n",
       "      <td>50602</td>\n",
       "    </tr>\n",
       "    <tr>\n",
       "      <th>3</th>\n",
       "      <td>04000US05</td>\n",
       "      <td>Arkansas</td>\n",
       "      <td>36658</td>\n",
       "      <td>37057</td>\n",
       "      <td>40795</td>\n",
       "      <td>39586</td>\n",
       "      <td>36538</td>\n",
       "      <td>38587</td>\n",
       "      <td>41302</td>\n",
       "      <td>39018</td>\n",
       "      <td>39919</td>\n",
       "    </tr>\n",
       "    <tr>\n",
       "      <th>4</th>\n",
       "      <td>04000US06</td>\n",
       "      <td>California</td>\n",
       "      <td>51755</td>\n",
       "      <td>55319</td>\n",
       "      <td>55734</td>\n",
       "      <td>57014</td>\n",
       "      <td>56134</td>\n",
       "      <td>54283</td>\n",
       "      <td>53367</td>\n",
       "      <td>57020</td>\n",
       "      <td>57528</td>\n",
       "    </tr>\n",
       "  </tbody>\n",
       "</table>\n",
       "</div>"
      ],
      "text/plain": [
       "       GEOID       State   2005   2006   2007   2008   2009   2010   2011  \\\n",
       "0  04000US01     Alabama  37150  37952  42212  44476  39980  40933  42590   \n",
       "1  04000US02      Alaska  55891  56418  62993  63989  61604  57848  57431   \n",
       "2  04000US04     Arizona  45245  46657  62993  46914  45739  46896  48621   \n",
       "3  04000US05    Arkansas  36658  37057  40795  39586  36538  38587  41302   \n",
       "4  04000US06  California  51755  55319  55734  57014  56134  54283  53367   \n",
       "\n",
       "    2012   2013  \n",
       "0  43464  41381  \n",
       "1  63648  61137  \n",
       "2  47044  50602  \n",
       "3  39018  39919  \n",
       "4  57020  57528  "
      ]
     },
     "execution_count": 55,
     "metadata": {},
     "output_type": "execute_result"
    }
   ],
   "source": [
    "pd.DataFrame(incomedf)"
   ]
  },
  {
   "cell_type": "code",
   "execution_count": 77,
   "metadata": {},
   "outputs": [
    {
     "name": "stdout",
     "output_type": "stream",
     "text": [
      "Arkansas 38973.0\n"
     ]
    }
   ],
   "source": [
    "# State with lowest average income from 2007 to 2010(inclusive)\n",
    "\n",
    "filepath = 'DataFiles/Income.csv'\n",
    "\n",
    "import pandas as pd\n",
    "\n",
    "def lowestAverage(filepath):\n",
    "    incomedf= pd.read_csv(filepath)\n",
    "    df = pd.DataFrame(incomedf)\n",
    "    li = {}\n",
    "    for row in df.values:\n",
    "        \n",
    "        sum = 0 \n",
    "        count = 0\n",
    "        for i in range(4,7):\n",
    "            sum += int(row[i])\n",
    "            count += 1\n",
    "        li[row[1]]= sum/count\n",
    "    min_value=min(li.values())\n",
    "    min_keys = [k for k, v in li.items() if v == min_value]\n",
    "   \n",
    "    print(min_keys[0],min_value)\n",
    "            \n",
    "lowestAverage(filepath)            "
   ]
  },
  {
   "cell_type": "code",
   "execution_count": 39,
   "metadata": {},
   "outputs": [
    {
     "data": {
      "text/plain": [
       "'indira'"
      ]
     },
     "execution_count": 39,
     "metadata": {},
     "output_type": "execute_result"
    }
   ],
   "source": [
    "d={'name':'indira',''}\n",
    "d['name']"
   ]
  },
  {
   "cell_type": "code",
   "execution_count": 53,
   "metadata": {},
   "outputs": [
    {
     "data": {
      "text/plain": [
       "' ot emoclew'"
      ]
     },
     "execution_count": 53,
     "metadata": {},
     "output_type": "execute_result"
    }
   ],
   "source": [
    "a='welcome to python'\n",
    "a[10::-1]"
   ]
  },
  {
   "cell_type": "code",
   "execution_count": 51,
   "metadata": {},
   "outputs": [
    {
     "data": {
      "text/plain": [
       "'welcome to program'"
      ]
     },
     "execution_count": 51,
     "metadata": {},
     "output_type": "execute_result"
    }
   ],
   "source": [
    "a[:11]+'program'"
   ]
  },
  {
   "cell_type": "code",
   "execution_count": 122,
   "metadata": {},
   "outputs": [
    {
     "name": "stdout",
     "output_type": "stream",
     "text": [
      "Alabama\n",
      "Arizona\n",
      "Arkansas\n"
     ]
    }
   ],
   "source": []
  },
  {
   "cell_type": "code",
   "execution_count": 121,
   "metadata": {},
   "outputs": [
    {
     "name": "stdout",
     "output_type": "stream",
     "text": [
      "Alabama\n",
      "Arizona\n",
      "Arkansas\n"
     ]
    }
   ],
   "source": [
    "li =['Alabama', 'Arizona', 'Arkansas']\n"
   ]
  },
  {
   "cell_type": "code",
   "execution_count": null,
   "metadata": {},
   "outputs": [],
   "source": []
  },
  {
   "cell_type": "code",
   "execution_count": null,
   "metadata": {},
   "outputs": [],
   "source": []
  },
  {
   "cell_type": "code",
   "execution_count": null,
   "metadata": {},
   "outputs": [],
   "source": []
  },
  {
   "cell_type": "code",
   "execution_count": null,
   "metadata": {},
   "outputs": [],
   "source": []
  },
  {
   "cell_type": "code",
   "execution_count": null,
   "metadata": {},
   "outputs": [],
   "source": []
  },
  {
   "cell_type": "code",
   "execution_count": null,
   "metadata": {},
   "outputs": [],
   "source": []
  },
  {
   "cell_type": "code",
   "execution_count": null,
   "metadata": {},
   "outputs": [],
   "source": []
  }
 ],
 "metadata": {
  "kernelspec": {
   "display_name": "Python 3",
   "language": "python",
   "name": "python3"
  },
  "language_info": {
   "codemirror_mode": {
    "name": "ipython",
    "version": 3
   },
   "file_extension": ".py",
   "mimetype": "text/x-python",
   "name": "python",
   "nbconvert_exporter": "python",
   "pygments_lexer": "ipython3",
   "version": "3.7.3"
  }
 },
 "nbformat": 4,
 "nbformat_minor": 2
}
